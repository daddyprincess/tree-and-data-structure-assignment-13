{
 "cells": [
  {
   "cell_type": "markdown",
   "id": "33ad3b0a-9791-457d-9f9e-f7a880982219",
   "metadata": {},
   "source": [
    "## 1.Find K Closest Elements"
   ]
  },
  {
   "cell_type": "code",
   "execution_count": 1,
   "id": "1ba6fc87-7476-4f19-a335-7741fbaa4097",
   "metadata": {},
   "outputs": [
    {
     "name": "stdout",
     "output_type": "stream",
     "text": [
      "[1, 2, 3, 4]\n"
     ]
    }
   ],
   "source": [
    "def findClosestElements(arr, k, x):\n",
    "    # Function to find the index of the closest element to x using binary search\n",
    "    def find_closest_index(arr, x):\n",
    "        left, right = 0, len(arr) - 1\n",
    "        while left <= right:\n",
    "            mid = left + (right - left) // 2\n",
    "            if arr[mid] == x:\n",
    "                return mid\n",
    "            elif arr[mid] < x:\n",
    "                left = mid + 1\n",
    "            else:\n",
    "                right = mid - 1\n",
    "        # If x is not found, return the index of the element closest to x\n",
    "        return left\n",
    "\n",
    "    # Find the index of the closest element to x\n",
    "    closest_index = find_closest_index(arr, x)\n",
    "\n",
    "    # Initialize left and right pointers\n",
    "    left, right = closest_index - 1, closest_index\n",
    "\n",
    "    # Find the k closest integers\n",
    "    while k > 0:\n",
    "        if left < 0:\n",
    "            right += 1\n",
    "        elif right >= len(arr):\n",
    "            left -= 1\n",
    "        elif abs(arr[left] - x) <= abs(arr[right] - x):\n",
    "            left -= 1\n",
    "        else:\n",
    "            right += 1\n",
    "        k -= 1\n",
    "\n",
    "    # Return the k closest integers in ascending order\n",
    "    return arr[left + 1:right]\n",
    "\n",
    "# Test the function\n",
    "arr = [1, 2, 3, 4, 5]\n",
    "k = 4\n",
    "x = 3\n",
    "result = findClosestElements(arr, k, x)\n",
    "print(result)  "
   ]
  },
  {
   "cell_type": "code",
   "execution_count": 2,
   "id": "b4aacbc6-4707-4899-9654-d5b21a2b5710",
   "metadata": {},
   "outputs": [
    {
     "name": "stdout",
     "output_type": "stream",
     "text": [
      "[1, 2, 3, 4]\n"
     ]
    }
   ],
   "source": [
    "def find_closest_elements(arr, k, x):\n",
    "    # Step 1: Find the position of the element closest to x using binary search.\n",
    "    left, right = 0, len(arr) - 1\n",
    "    while left <= right:\n",
    "        mid = left + (right - left) // 2\n",
    "        if arr[mid] == x:\n",
    "            break\n",
    "        elif arr[mid] < x:\n",
    "            left = mid + 1\n",
    "        else:\n",
    "            right = mid - 1\n",
    "    else:\n",
    "        # If x is not found in the array, 'left' will be the position where x should be inserted.\n",
    "        # In this case, adjust 'left' and 'right' accordingly to point to elements in the array.\n",
    "        right = left\n",
    "        left -= 1\n",
    "\n",
    "    # Step 2 and Step 3: Initialize pointers and compare absolute differences.\n",
    "    result = []\n",
    "    while k > 0:\n",
    "        if left >= 0 and right < len(arr):\n",
    "            if abs(arr[left] - x) <= abs(arr[right] - x):\n",
    "                result.append(arr[left])\n",
    "                left -= 1\n",
    "            else:\n",
    "                result.append(arr[right])\n",
    "                right += 1\n",
    "        elif left >= 0:\n",
    "            result.append(arr[left])\n",
    "            left -= 1\n",
    "        elif right < len(arr):\n",
    "            result.append(arr[right])\n",
    "            right += 1\n",
    "        k -= 1\n",
    "\n",
    "    # Step 4: The result should be sorted in ascending order since 'arr' is sorted.\n",
    "    return sorted(result)\n",
    "\n",
    "\n",
    "# Test case\n",
    "arr = [1, 2, 3, 4, 5]\n",
    "k = 4\n",
    "x = -1\n",
    "print(find_closest_elements(arr, k, x))"
   ]
  },
  {
   "cell_type": "markdown",
   "id": "33f3738f-19ec-405b-b0d5-8ff813ccd2d4",
   "metadata": {},
   "source": [
    "## 2.Kth Smallest Element in a Sorted Matrix"
   ]
  },
  {
   "cell_type": "code",
   "execution_count": 3,
   "id": "097c42c6-4145-4241-acca-111adb0cc280",
   "metadata": {},
   "outputs": [
    {
     "name": "stdout",
     "output_type": "stream",
     "text": [
      "13\n",
      "-5\n"
     ]
    }
   ],
   "source": [
    "def kth_smallest(matrix, k):\n",
    "    n = len(matrix)\n",
    "\n",
    "    # Step 1: Find the minimum and maximum elements in the matrix.\n",
    "    low, high = matrix[0][0], matrix[n - 1][n - 1]\n",
    "\n",
    "    while low < high:\n",
    "        mid = (low + high) // 2\n",
    "        count = 0\n",
    "        j = n - 1\n",
    "\n",
    "        # Step 3: Count the number of elements smaller than or equal to mid in the matrix.\n",
    "        for i in range(n):\n",
    "            while j >= 0 and matrix[i][j] > mid:\n",
    "                j -= 1\n",
    "            count += (j + 1)\n",
    "\n",
    "        # Step 4: Adjust the search range based on the count of smaller elements.\n",
    "        if count < k:\n",
    "            low = mid + 1\n",
    "        else:\n",
    "            high = mid\n",
    "\n",
    "    # Step 5: kth smallest element is found.\n",
    "    return low\n",
    "\n",
    "\n",
    "# Test cases\n",
    "matrix1 = [[1, 5, 9], [10, 11, 13], [12, 13, 15]]\n",
    "k1 = 8\n",
    "print(kth_smallest(matrix1, k1)) \n",
    "\n",
    "matrix2 = [[-5]]\n",
    "k2 = 1\n",
    "print(kth_smallest(matrix2, k2)) "
   ]
  },
  {
   "cell_type": "code",
   "execution_count": null,
   "id": "86078aaa-b2ea-4756-9312-76c56f4439b1",
   "metadata": {},
   "outputs": [],
   "source": [
    "To find the kth smallest element in the sorted order in the given n x n matrix with sorted rows and columns,\n",
    "you can use a modified binary search algorithm. The key idea is to perform a binary search on the range of\n",
    "possible values (between the minimum and maximum elements in the matrix) and count the number of elements \n",
    "smaller than or equal to the mid-value.\n",
    "\n",
    "Here's the step-by-step algorithm to solve the problem:\n",
    "\n",
    "1.Find the minimum and maximum elements in the matrix to define the range for binary search.\n",
    "2.Perform binary search on the range to find the kth smallest element.\n",
    "3.In the binary search, count the number of elements smaller than or equal to the mid-value in the matrix.\n",
    "4.Adjust the search range based on the count of smaller elements.\n",
    "5.Repeat the binary search until the kth smallest element is found."
   ]
  },
  {
   "cell_type": "markdown",
   "id": "a66a5356-75f5-4820-b2c9-a872d66e1b70",
   "metadata": {},
   "source": [
    "## 3.Top K Frequent Words"
   ]
  },
  {
   "cell_type": "code",
   "execution_count": 4,
   "id": "a278677a-3ce5-48f2-ac8f-d5b0d4728cf8",
   "metadata": {},
   "outputs": [
    {
     "name": "stdout",
     "output_type": "stream",
     "text": [
      "['i', 'love']\n"
     ]
    }
   ],
   "source": [
    "from collections import Counter\n",
    "\n",
    "def k_most_frequent(words, k):\n",
    "    # Step 1: Count the frequency of each word.\n",
    "    word_count = Counter(words)\n",
    "\n",
    "    # Step 2 and Step 3: Sort words based on frequency and lexicographical order.\n",
    "    sorted_words = sorted(word_count.keys(), key=lambda word: (-word_count[word], word))\n",
    "\n",
    "    # Step 4: Return the k most frequent words.\n",
    "    return sorted_words[:k]\n",
    "\n",
    "\n",
    "# Test case\n",
    "words = [\"i\", \"love\", \"leetcode\", \"i\", \"love\", \"coding\"]\n",
    "k = 2\n",
    "print(k_most_frequent(words, k)) "
   ]
  },
  {
   "cell_type": "code",
   "execution_count": null,
   "id": "8976e3f6-92af-4070-999a-e3237657fecd",
   "metadata": {},
   "outputs": [],
   "source": [
    "To find the k most frequent strings in the given array of strings, you can use a combination of a dictionary\n",
    "to count the frequency of each word and sorting to order the words based on their frequency and\n",
    "lexicographical order.\n",
    "\n",
    "Here's a step-by-step algorithm to solve the problem:\n",
    "\n",
    "1.Use a dictionary to count the frequency of each word in the input array.\n",
    "2.Sort the words based on their frequency in descending order. If two words have the same frequency, sort\n",
    " them lexicographically.\n",
    "3.Take the first k words from the sorted list."
   ]
  },
  {
   "cell_type": "code",
   "execution_count": 5,
   "id": "584326c0-ff5e-4864-b544-d871336d6369",
   "metadata": {},
   "outputs": [
    {
     "name": "stdout",
     "output_type": "stream",
     "text": [
      "['the', 'is', 'sunny', 'day']\n"
     ]
    }
   ],
   "source": [
    "from collections import Counter\n",
    "\n",
    "def k_most_frequent_words(words, k):\n",
    "    # Step 1: Create a dictionary to store the frequency of each word.\n",
    "    word_freq = Counter(words)\n",
    "\n",
    "    # Step 2: Sort the words based on frequency and lexicographical order.\n",
    "    sorted_words = sorted(word_freq.keys(), key=lambda word: (-word_freq[word], word))\n",
    "\n",
    "    # Step 3: Return the first k elements.\n",
    "    return sorted_words[:k]\n",
    "\n",
    "# Test case\n",
    "words = [\"the\", \"day\", \"is\", \"sunny\", \"the\", \"the\", \"the\", \"sunny\", \"is\", \"is\"]\n",
    "k = 4\n",
    "print(k_most_frequent_words(words, k))"
   ]
  },
  {
   "cell_type": "code",
   "execution_count": null,
   "id": "4dd18493-59b1-4269-a3b2-6cc6761ed51e",
   "metadata": {},
   "outputs": [],
   "source": [
    "To find the k most frequent strings in the given array of words, you can use a combination of dictionary-\n",
    "based frequency counting and sorting. The steps to achieve this are as follows:\n",
    "\n",
    "1.Create a dictionary to store the frequency of each word in the array.\n",
    "2.Sort the words based on their frequency and lexicographical order.\n",
    "3.Return the first k elements from the sorted list."
   ]
  },
  {
   "cell_type": "markdown",
   "id": "1046315c-4ebc-4527-8299-cb8a6b687adc",
   "metadata": {},
   "source": [
    "## 4.Diameter of Binary Tree"
   ]
  },
  {
   "cell_type": "code",
   "execution_count": 7,
   "id": "8ca7c13c-ccf8-41bb-8a3a-7c8a99a494a5",
   "metadata": {},
   "outputs": [
    {
     "name": "stdout",
     "output_type": "stream",
     "text": [
      "3\n"
     ]
    }
   ],
   "source": [
    "class TreeNode:\n",
    "    def __init__(self, val=0, left=None, right=None):\n",
    "        self.val = val\n",
    "        self.left = left\n",
    "        self.right = right\n",
    "\n",
    "def diameter_of_binary_tree(root):\n",
    "    def height(node):\n",
    "        if not node:\n",
    "            return 0\n",
    "        \n",
    "        left_height = height(node.left)\n",
    "        right_height = height(node.right)\n",
    "        \n",
    "        # Calculate diameter at the current node and update the maximum diameter.\n",
    "        nonlocal max_diameter\n",
    "        max_diameter = max(max_diameter, left_height + right_height)\n",
    "        \n",
    "        # Return the height of the current node.\n",
    "        return 1 + max(left_height, right_height)\n",
    "    \n",
    "    max_diameter = 0\n",
    "    height(root)\n",
    "    return max_diameter\n",
    "\n",
    "# Test case\n",
    "# Construct the binary tree [1, 2, 3, 4, 5]\n",
    "root = TreeNode(1)\n",
    "root.left = TreeNode(2)\n",
    "root.right = TreeNode(3)\n",
    "root.left.left = TreeNode(4)\n",
    "root.left.right = TreeNode(5)\n",
    "\n",
    "print(diameter_of_binary_tree(root))"
   ]
  },
  {
   "cell_type": "code",
   "execution_count": null,
   "id": "e5b7fe81-df14-4fb7-8de9-1fbdedabdcf5",
   "metadata": {},
   "outputs": [],
   "source": [
    "To find the diameter of a binary tree (i.e., the length of the longest path between any two nodes), you can\n",
    "use a recursive approach to traverse the tree and keep track of the longest path (in terms of edges) from \n",
    "each node to its left and right subtrees.\n",
    "\n",
    "Here's a step-by-step algorithm to solve the problem:\n",
    "\n",
    "1.Define a recursive function that calculates the height (maximum depth) of a node.\n",
    "2.In the same function, calculate the diameter at each node by considering the longest path that passes\n",
    " through it (i.e., the sum of the heights of its left and right subtrees).\n",
    "3.Keep track of the maximum diameter encountered during the traversal."
   ]
  },
  {
   "cell_type": "code",
   "execution_count": 8,
   "id": "5afebb7c-371b-442e-96f8-ae2619811cf5",
   "metadata": {},
   "outputs": [
    {
     "name": "stdout",
     "output_type": "stream",
     "text": [
      "1\n"
     ]
    }
   ],
   "source": [
    "class TreeNode:\n",
    "    def __init__(self, val=0, left=None, right=None):\n",
    "        self.val = val\n",
    "        self.left = left\n",
    "        self.right = right\n",
    "\n",
    "def diameter_of_binary_tree(root):\n",
    "    def height(node):\n",
    "        if not node:\n",
    "            return 0\n",
    "\n",
    "        left_height = height(node.left)\n",
    "        right_height = height(node.right)\n",
    "\n",
    "        # Update the maximum diameter found so far.\n",
    "        nonlocal max_diameter\n",
    "        max_diameter = max(max_diameter, left_height + right_height)\n",
    "\n",
    "        # Return the height of the current node.\n",
    "        return 1 + max(left_height, right_height)\n",
    "\n",
    "    # Initialize the maximum diameter variable.\n",
    "    max_diameter = 0\n",
    "\n",
    "    # Start the recursive calculation from the root of the binary tree.\n",
    "    height(root)\n",
    "\n",
    "    return max_diameter\n",
    "\n",
    "\n",
    "# Test case\n",
    "root = TreeNode(1)\n",
    "root.left = TreeNode(2)\n",
    "print(diameter_of_binary_tree(root))  "
   ]
  },
  {
   "cell_type": "code",
   "execution_count": null,
   "id": "0823286b-67c8-4a2f-bb8c-6293ee83ca9d",
   "metadata": {},
   "outputs": [],
   "source": [
    "To find the length of the diameter of a binary tree, you can use a recursive approach to calculate the \n",
    "height of each node and, at the same time, keep track of the maximum diameter encountered during the\n",
    "traversal.\n",
    "\n",
    "Here's a step-by-step algorithm to solve the problem:\n",
    "\n",
    "1.Define a recursive function to calculate the height of a node.\n",
    "2.Within the recursive function, calculate the height of the left and right subtrees.\n",
    "3.Update the maximum diameter found so far as the maximum of the current diameter and the sum of left and\n",
    " right subtree heights.\n",
    "4.Return the height of the current node as the maximum of the left and right subtree heights plus one."
   ]
  },
  {
   "cell_type": "markdown",
   "id": "90e96a0e-9bc5-431c-903a-03a60681bf65",
   "metadata": {},
   "source": [
    "## 5.Symmetric Tree"
   ]
  },
  {
   "cell_type": "code",
   "execution_count": 10,
   "id": "e6dc32fa-0aaf-43d5-9e08-192a30b95655",
   "metadata": {},
   "outputs": [
    {
     "name": "stdout",
     "output_type": "stream",
     "text": [
      "True\n",
      "False\n"
     ]
    }
   ],
   "source": [
    "class TreeNode:\n",
    "    def __init__(self, val=0, left=None, right=None):\n",
    "        self.val = val\n",
    "        self.left = left\n",
    "        self.right = right\n",
    "\n",
    "def is_mirror(left, right):\n",
    "    if not left and not right:\n",
    "        return True\n",
    "    if not left or not right:\n",
    "        return False\n",
    "    return (left.val == right.val) and is_mirror(left.left, right.right) and is_mirror(left.right, right.\n",
    "                                                                                       left)\n",
    "\n",
    "def is_symmetric(root):\n",
    "    if not root:\n",
    "        return True\n",
    "    return is_mirror(root.left, root.right)\n",
    "\n",
    "\n",
    "# Test cases\n",
    "root1 = TreeNode(1)\n",
    "root1.left = TreeNode(2)\n",
    "root1.right = TreeNode(2)\n",
    "root1.left.left = TreeNode(3)\n",
    "root1.left.right = TreeNode(4)\n",
    "root1.right.left = TreeNode(4)\n",
    "root1.right.right = TreeNode(3)\n",
    "\n",
    "print(is_symmetric(root1))  \n",
    "\n",
    "root2 = TreeNode(1)\n",
    "root2.left = TreeNode(2)\n",
    "root2.right = TreeNode(2)\n",
    "root2.left.right = TreeNode(3)\n",
    "root2.right.right = TreeNode(3)\n",
    "\n",
    "print(is_symmetric(root2))"
   ]
  },
  {
   "cell_type": "markdown",
   "id": "dcf8ccfd-90fa-48c0-ad60-ed752a069d02",
   "metadata": {
    "tags": []
   },
   "source": [
    "## 6.Kth Largest Integer in the Array"
   ]
  },
  {
   "cell_type": "code",
   "execution_count": 11,
   "id": "f5b911fb-9e8c-4020-8a2b-77cd59dcf543",
   "metadata": {},
   "outputs": [
    {
     "name": "stdout",
     "output_type": "stream",
     "text": [
      "3\n"
     ]
    }
   ],
   "source": [
    "def kth_largest_element(nums, k):\n",
    "    # Step 1: Convert the strings to integers and store them in a list.\n",
    "    int_list = [int(num) for num in nums]\n",
    "\n",
    "    # Step 2: Sort the list of integers in non-decreasing order.\n",
    "    int_list.sort(reverse=True)\n",
    "\n",
    "    # Step 3: Return the kth largest integer from the sorted list.\n",
    "    return str(int_list[k - 1])\n",
    "\n",
    "\n",
    "# Test case\n",
    "nums = [\"3\", \"6\", \"7\", \"10\"]\n",
    "k = 4\n",
    "print(kth_largest_element(nums, k))  "
   ]
  },
  {
   "cell_type": "code",
   "execution_count": null,
   "id": "9b78d4e7-ff3e-49e9-8c6f-ad287a697529",
   "metadata": {},
   "outputs": [],
   "source": [
    "To find the kth largest integer in the given array of strings, you can follow these steps:\n",
    "\n",
    "1.Convert the strings to integers and store them in a list.\n",
    "2.Sort the list of integers in non-decreasing order.\n",
    "3.Return the kth largest integer from the sorted list."
   ]
  },
  {
   "cell_type": "code",
   "execution_count": 12,
   "id": "81a57b07-46a6-4dfc-bada-c15f2cb0f503",
   "metadata": {},
   "outputs": [
    {
     "name": "stdout",
     "output_type": "stream",
     "text": [
      "2\n"
     ]
    }
   ],
   "source": [
    "def kth_largest_number(nums, k):\n",
    "    # Step 1: Convert strings to integers and store them in a new list.\n",
    "    nums_int = [int(num) for num in nums]\n",
    "\n",
    "    # Step 2: Sort the list of integers in non-decreasing order.\n",
    "    nums_int.sort()\n",
    "\n",
    "    # Step 3: Return the (len(nums) - k)th element as the kth largest integer.\n",
    "    return str(nums_int[-k])\n",
    "\n",
    "\n",
    "# Test case\n",
    "nums = [\"2\", \"21\", \"12\", \"1\"]\n",
    "k = 3\n",
    "print(kth_largest_number(nums, k))  "
   ]
  },
  {
   "cell_type": "code",
   "execution_count": null,
   "id": "c4210ee6-dd5e-4ece-a141-68d100d8cba0",
   "metadata": {},
   "outputs": [],
   "source": [
    "To find the kth largest integer in the given array of strings, you can convert the strings to integers, sort\n",
    "them in non-decreasing order, and then return the kth largest integer as a string.\n",
    "\n",
    "Here's a step-by-step algorithm to solve the problem:\n",
    "\n",
    "1.Convert the strings in the nums array to integers and store them in a new list.\n",
    "2.Sort the list of integers in non-decreasing order.\n",
    "3.Return the (len(nums) - k)th element from the sorted list as the kth largest integer."
   ]
  },
  {
   "cell_type": "code",
   "execution_count": 13,
   "id": "db3adeea-857b-4321-a6dc-65cae74dac6d",
   "metadata": {},
   "outputs": [
    {
     "name": "stdout",
     "output_type": "stream",
     "text": [
      "0\n"
     ]
    }
   ],
   "source": [
    "def kth_largest_number(nums, k):\n",
    "    # Step 1: Convert strings to integers and store them in a list.\n",
    "    nums_as_int = [int(num) for num in nums]\n",
    "\n",
    "    # Step 2: Sort the list of integers in non-decreasing order.\n",
    "    nums_as_int.sort(reverse=True)\n",
    "\n",
    "    # Step 3 and Step 4: Get the kth largest integer and convert it back to a string.\n",
    "    kth_largest_int = nums_as_int[k - 1]\n",
    "    return str(kth_largest_int)\n",
    "\n",
    "\n",
    "# Test case\n",
    "nums = [\"0\", \"0\"]\n",
    "k = 2\n",
    "print(kth_largest_number(nums, k))  "
   ]
  },
  {
   "cell_type": "code",
   "execution_count": null,
   "id": "75bd75b8-488f-416e-a8d0-ee61acf61f43",
   "metadata": {},
   "outputs": [],
   "source": [
    "To find the kth largest integer in the given array of strings, you can follow these steps:\n",
    "\n",
    "1.Convert each string in the array to its corresponding integer value and store them in a list.\n",
    "2.Sort the list of integers in non-decreasing order.\n",
    "3.Get the kth largest integer from the sorted list.\n",
    "4.Convert the kth largest integer back to a string and return it."
   ]
  },
  {
   "cell_type": "markdown",
   "id": "8cffe964-b670-48f9-8967-4c0709ea9a2b",
   "metadata": {},
   "source": [
    "## 7.Invert Binary Tree"
   ]
  },
  {
   "cell_type": "code",
   "execution_count": 14,
   "id": "3d67a4bb-6fa8-4092-91df-730047b2d7a0",
   "metadata": {},
   "outputs": [
    {
     "name": "stdout",
     "output_type": "stream",
     "text": [
      "[4, 7, 9, 6, 2, 3, 1]\n",
      "[2, 3, 1]\n",
      "[]\n"
     ]
    }
   ],
   "source": [
    "class TreeNode:\n",
    "    def __init__(self, val=0, left=None, right=None):\n",
    "        self.val = val\n",
    "        self.left = left\n",
    "        self.right = right\n",
    "\n",
    "def invert_tree(root):\n",
    "    if not root:\n",
    "        return None\n",
    "\n",
    "    # Step 2: Swap the left and right children.\n",
    "    root.left, root.right = root.right, root.left\n",
    "\n",
    "    # Step 3 and Step 4: Recursively invert left and right subtrees.\n",
    "    invert_tree(root.left)\n",
    "    invert_tree(root.right)\n",
    "\n",
    "    # Step 5: Return the root node.\n",
    "    return root\n",
    "\n",
    "\n",
    "# Helper function to print the tree in a list for testing purposes\n",
    "def tree_to_list(root):\n",
    "    if not root:\n",
    "        return []\n",
    "    return [root.val] + tree_to_list(root.left) + tree_to_list(root.right)\n",
    "\n",
    "\n",
    "# Test cases\n",
    "root1 = TreeNode(4)\n",
    "root1.left = TreeNode(2)\n",
    "root1.right = TreeNode(7)\n",
    "root1.left.left = TreeNode(1)\n",
    "root1.left.right = TreeNode(3)\n",
    "root1.right.left = TreeNode(6)\n",
    "root1.right.right = TreeNode(9)\n",
    "print(tree_to_list(invert_tree(root1)))  \n",
    "\n",
    "root2 = TreeNode(2)\n",
    "root2.left = TreeNode(1)\n",
    "root2.right = TreeNode(3)\n",
    "print(tree_to_list(invert_tree(root2)))  \n",
    "\n",
    "root3 = None\n",
    "print(tree_to_list(invert_tree(root3))) "
   ]
  },
  {
   "cell_type": "markdown",
   "id": "4979fb30-83f0-48c1-8739-c9a3baf3e1e2",
   "metadata": {},
   "source": [
    "## 8.Print Binary Tree"
   ]
  },
  {
   "cell_type": "code",
   "execution_count": 17,
   "id": "666376f2-761a-4427-a1c9-8df376644cf0",
   "metadata": {},
   "outputs": [
    {
     "name": "stdout",
     "output_type": "stream",
     "text": [
      "[['', '1', ''], ['2', '', ''], ['', '', '']]\n"
     ]
    }
   ],
   "source": [
    "class TreeNode:\n",
    "    def __init__(self, val=0, left=None, right=None):\n",
    "        self.val = val\n",
    "        self.left = left\n",
    "        self.right = right\n",
    "\n",
    "def print_tree(root):\n",
    "    def get_height(node):\n",
    "        if not node:\n",
    "            return 0\n",
    "        return 1 + max(get_height(node.left), get_height(node.right))\n",
    "\n",
    "    def dfs(node, row, left, right):\n",
    "        if not node:\n",
    "            return\n",
    "\n",
    "        mid = (left + right) // 2\n",
    "        res[row][mid] = str(node.val)\n",
    "\n",
    "        dfs(node.left, row + 1, left, mid - 1)\n",
    "        dfs(node.right, row + 1, mid + 1, right)\n",
    "\n",
    "    height = get_height(root)\n",
    "    rows = height + 1\n",
    "    cols = 2**height - 1\n",
    "\n",
    "    res = [[\"\"] * cols for _ in range(rows)]\n",
    "\n",
    "    dfs(root, 0, 0, cols - 1)\n",
    "    return res\n",
    "\n",
    "\n",
    "# Test cases\n",
    "root1 = TreeNode(1)\n",
    "root1.left = TreeNode(2)\n",
    "print(print_tree(root1))\n",
    "\n"
   ]
  },
  {
   "cell_type": "code",
   "execution_count": 18,
   "id": "df86acd3-411d-4697-9408-eae737d05fb8",
   "metadata": {},
   "outputs": [
    {
     "name": "stdout",
     "output_type": "stream",
     "text": [
      "[['', '', '', '1', '', '', ''], ['', '2', '', '', '', '3', ''], ['', '', '4', '', '', '', ''], ['', '', '', '', '', '', '']]\n"
     ]
    }
   ],
   "source": [
    "root2 = TreeNode(1)\n",
    "root2.left = TreeNode(2)\n",
    "root2.right = TreeNode(3)\n",
    "root2.left.right = TreeNode(4)\n",
    "print(print_tree(root2))"
   ]
  }
 ],
 "metadata": {
  "kernelspec": {
   "display_name": "Python 3 (ipykernel)",
   "language": "python",
   "name": "python3"
  },
  "language_info": {
   "codemirror_mode": {
    "name": "ipython",
    "version": 3
   },
   "file_extension": ".py",
   "mimetype": "text/x-python",
   "name": "python",
   "nbconvert_exporter": "python",
   "pygments_lexer": "ipython3",
   "version": "3.10.8"
  }
 },
 "nbformat": 4,
 "nbformat_minor": 5
}
